{
 "cells": [
  {
   "cell_type": "markdown",
   "id": "29a5cf22-8b5b-47c1-9818-696722840703",
   "metadata": {},
   "source": [
    "## Configure Rubygems"
   ]
  },
  {
   "cell_type": "code",
   "execution_count": 1,
   "id": "e19d1bd6-6403-4266-b3ee-d77fa45cd275",
   "metadata": {},
   "outputs": [],
   "source": [
    "require \"bundler/inline\"\n",
    "\n",
    "gemfile do\n",
    "  source \"https://rubygems.org\"\n",
    "\n",
    "  gem \"dotenv\"\n",
    "  gem \"llama_cpp\"\n",
    "end"
   ]
  },
  {
   "cell_type": "markdown",
   "id": "c7c27eaa-d272-4468-802e-082d2357f12b",
   "metadata": {},
   "source": [
    "## Initialize ENV from .env"
   ]
  },
  {
   "cell_type": "code",
   "execution_count": 2,
   "id": "87f8c19e-6984-4cda-87df-79137a75433c",
   "metadata": {},
   "outputs": [
    {
     "data": {
      "text/plain": [
       "true"
      ]
     },
     "execution_count": 2,
     "metadata": {},
     "output_type": "execute_result"
    }
   ],
   "source": [
    "require 'dotenv/load'"
   ]
  },
  {
   "cell_type": "markdown",
   "id": "6b589fad-c238-4032-a41e-5ba6edc64268",
   "metadata": {},
   "source": [
    "## Use LLama"
   ]
  },
  {
   "cell_type": "code",
   "execution_count": 3,
   "id": "30edbb88-9714-4e57-805e-1e33d85ae45c",
   "metadata": {},
   "outputs": [
    {
     "data": {
      "text/plain": [
       "\"/Users/rdh/github/rdh/rubyter/models/llama-2-7b-chat.ggmlv3.q4_K_M.bin\""
      ]
     },
     "execution_count": 3,
     "metadata": {},
     "output_type": "execute_result"
    }
   ],
   "source": [
    "MODEL_PATH='/Users/rdh/github/rdh/rubyter/models/llama-2-7b-chat.ggmlv3.q4_K_M.bin'"
   ]
  },
  {
   "cell_type": "code",
   "execution_count": 4,
   "id": "ced6d913-d648-47b7-a848-9f95918bcda2",
   "metadata": {},
   "outputs": [
    {
     "name": "stdout",
     "output_type": "stream",
     "text": [
      "In this video, we will learn how to use the JavaFX library in Eclipse to create a simple GUI application with a button and a message box that displays when the button is clicked.\n",
      "\n",
      "First, open Eclipse and create a new Java project by selecting \"File\" > \"New\" > \"Java Project\". Then, give your project a name and select the \"JavaFX\" project type.\n",
      "\n",
      "Next, import the necessary libraries by right-clicking on the \"Libraries\" folder in the project explorer and selecting \"Add Library\". Search for \"javafx\" and add the \"javafx\" library to your\n"
     ]
    }
   ],
   "source": [
    "require 'llama_cpp'\n",
    "\n",
    "params = LLaMACpp::ContextParams.new\n",
    "params.seed = 42\n",
    "\n",
    "model = LLaMACpp::Model.new(model_path: MODEL_PATH, params: params)\n",
    "context = LLaMACpp::Context.new(model: model)\n",
    "\n",
    "puts LLaMACpp.generate(context, 'Hello, World.', n_threads: 4)"
   ]
  },
  {
   "cell_type": "markdown",
   "id": "ebbfa27c-7026-4b6a-a739-34781869516d",
   "metadata": {},
   "source": [
    "## Prompts"
   ]
  },
  {
   "cell_type": "code",
   "execution_count": 5,
   "id": "250b8bad-fc0b-4da2-8fb7-6d1660f97bfc",
   "metadata": {},
   "outputs": [
    {
     "data": {
      "text/plain": [
       "\"You are a helpful, respectful and honest assistant. \\nAlways answer as helpfully as possible, while being safe.  \\nYour answers should not include any harmful, unethical, racist, sexist, toxic, dangerous, or illegal content. \\nPlease ensure that your responses are socially unbiased and positive in nature.\\n\\nIf a question does not make any sense, or is not factually coherent, explain why instead of answering something not correct. \\nIf you don't know the answer to a question, please don't share false information.\\n\""
      ]
     },
     "execution_count": 5,
     "metadata": {},
     "output_type": "execute_result"
    }
   ],
   "source": [
    "SYSTEM_PROMPT =<<-SYSTEM_PROMPT\n",
    "You are a helpful, respectful and honest assistant. \n",
    "Always answer as helpfully as possible, while being safe.  \n",
    "Your answers should not include any harmful, unethical, racist, sexist, toxic, dangerous, or illegal content. \n",
    "Please ensure that your responses are socially unbiased and positive in nature.\n",
    "\n",
    "If a question does not make any sense, or is not factually coherent, explain why instead of answering something not correct. \n",
    "If you don't know the answer to a question, please don't share false information.\n",
    "SYSTEM_PROMPT"
   ]
  },
  {
   "cell_type": "code",
   "execution_count": 6,
   "id": "a40215f9-ddc1-467a-bc73-4a5b8faadd74",
   "metadata": {},
   "outputs": [
    {
     "data": {
      "text/plain": [
       ":prompt"
      ]
     },
     "execution_count": 6,
     "metadata": {},
     "output_type": "execute_result"
    }
   ],
   "source": [
    "def prompt(instruction, system = SYSTEM_PROMPT)\n",
    "    return <<-PROMPT\n",
    "[INST] <<SYS>>\n",
    "#{system}\n",
    "<</SYS>>\n",
    "\n",
    "{instruction} [/INST]\n",
    "\n",
    "PROMPT\n",
    "end    \n",
    "    "
   ]
  },
  {
   "cell_type": "code",
   "execution_count": 8,
   "id": "2d785787-ef14-4488-b1d1-814e6816aaea",
   "metadata": {},
   "outputs": [
    {
     "data": {
      "text/plain": [
       "\"[INST] <<SYS>>\\nYou are a helpful, respectful and honest assistant. \\nAlways answer as helpfully as possible, while being safe.  \\nYour answers should not include any harmful, unethical, racist, sexist, toxic, dangerous, or illegal content. \\nPlease ensure that your responses are socially unbiased and positive in nature.\\n\\nIf a question does not make any sense, or is not factually coherent, explain why instead of answering something not correct. \\nIf you don't know the answer to a question, please don't share false information.\\n\\n<</SYS>>\\n\\n{instruction} [/INST]\\n\\n\""
      ]
     },
     "execution_count": 8,
     "metadata": {},
     "output_type": "execute_result"
    }
   ],
   "source": [
    "instruction = prompt('Hello, World.')"
   ]
  },
  {
   "cell_type": "code",
   "execution_count": 10,
   "id": "af8983c5-3664-4eda-8b40-67489e518e6b",
   "metadata": {},
   "outputs": [
    {
     "name": "stdout",
     "output_type": "stream",
     "text": [
      "Of course! I'm here to help and provide respectful, safe, and socially unbiased responses to your questions. Please feel free to ask me anything, and I will do my best to assist you. If a question is not factually coherent or does not make sense, I will politely explain why instead of answering something that is not correct. Additionally, if I don't know the answer to a question, I will not provide false information. My primary goal is to provide helpful and informative responses while maintaining a safe and ethical online environment. Please feel free to ask me anything!\n"
     ]
    }
   ],
   "source": [
    "puts LLaMACpp.generate(context, instruction, n_threads: 4)"
   ]
  },
  {
   "cell_type": "code",
   "execution_count": null,
   "id": "554b9d78-6c2b-4900-bb06-f7ec2c380c0f",
   "metadata": {},
   "outputs": [],
   "source": []
  }
 ],
 "metadata": {
  "kernelspec": {
   "display_name": "Ruby 3.2.2",
   "language": "ruby",
   "name": "ruby"
  },
  "language_info": {
   "file_extension": ".rb",
   "mimetype": "application/x-ruby",
   "name": "ruby",
   "version": "3.2.2"
  }
 },
 "nbformat": 4,
 "nbformat_minor": 5
}
